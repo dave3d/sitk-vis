{
 "cells": [
  {
   "cell_type": "code",
   "execution_count": null,
   "id": "blocked-statistics",
   "metadata": {},
   "outputs": [],
   "source": [
    "%pip install SimpleITK itkwidgets\n",
    "import SimpleITK as sitk\n",
    "import itkwidgets\n"
   ]
  },
  {
   "cell_type": "code",
   "execution_count": null,
   "id": "scientific-proxy",
   "metadata": {},
   "outputs": [],
   "source": [
    "import os\n",
    "if not os.path.exists(\"00-P.mhd\"):\n",
    "    \n",
    " !curl -L http://tux.creatis.insa-lyon.fr/~srit/POPI/Masks/00Mask-MetaImage.tar | tar -xf -\n",
    "        \n",
    " !curl -L http://tux.creatis.insa-lyon.fr/~srit/POPI/Images/MetaImage/00-MetaImage.tar | tar -xf -"
   ]
  },
  {
   "cell_type": "code",
   "execution_count": null,
   "id": "popular-bridal",
   "metadata": {},
   "outputs": [],
   "source": [
    "img = sitk.ReadImage('00-P.mhd')\n",
    "segmentation = sitk.ReadImage('00-air-body-lungs.mhd')+1"
   ]
  },
  {
   "cell_type": "code",
   "execution_count": null,
   "id": "naughty-factor",
   "metadata": {
    "scrolled": true
   },
   "outputs": [],
   "source": [
    "# Show the image and label\n",
    "\n",
    "viewer = itkwidgets.view(background=(0.8,.8,.8),image=img, label_image=segmentation, label_image_names=[(1,'alpha'),(2,'beta'),(3,'gamma')], label_image_weights=(0.0,0.0,0.5))\n",
    "viewer\n",
    "\n",
    "# Some of those parameters don't seem to really work: label_image_names, label_image_weights"
   ]
  },
  {
   "cell_type": "code",
   "execution_count": null,
   "id": "fleet-bikini",
   "metadata": {},
   "outputs": [],
   "source": [
    "# Show just the segmentation\n",
    "v2 = itkwidgets.view(label_image=segmentation)\n",
    "v2"
   ]
  },
  {
   "cell_type": "code",
   "execution_count": null,
   "id": "stretch-stanley",
   "metadata": {},
   "outputs": [],
   "source": [
    "help(viewer)"
   ]
  },
  {
   "cell_type": "code",
   "execution_count": null,
   "id": "robust-current",
   "metadata": {},
   "outputs": [],
   "source": []
  }
 ],
 "metadata": {
  "kernelspec": {
   "display_name": "Python 3",
   "language": "python",
   "name": "python3"
  },
  "language_info": {
   "codemirror_mode": {
    "name": "ipython",
    "version": 3
   },
   "file_extension": ".py",
   "mimetype": "text/x-python",
   "name": "python",
   "nbconvert_exporter": "python",
   "pygments_lexer": "ipython3",
   "version": "3.7.9"
  }
 },
 "nbformat": 4,
 "nbformat_minor": 5
}
